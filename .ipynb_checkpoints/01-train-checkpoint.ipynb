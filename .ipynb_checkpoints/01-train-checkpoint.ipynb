{
 "cells": [
  {
   "cell_type": "markdown",
   "metadata": {},
   "source": [
    "# Content\n",
    "\n",
    "1. [Description](#Description)\n",
    "2. [Import](#Import)\n",
    "3. [Paramethers](#Paramethers)\n",
    "4. [Data preparation](#Data-preparation)\n",
    "5. [Modeling](#Modeling)\n",
    "6. [Training](#Training)\n",
    "7. [Evaluating](#Evaluating)\n",
    "8. [Save model](#Save-model)"
   ]
  },
  {
   "cell_type": "markdown",
   "metadata": {},
   "source": [
    "### Description\n",
    "\n",
    "It is a code from the tutorial of [pyimagesearch](https://www.pyimagesearch.com/). Name of tutorail: \n",
    "\n",
    "- **COVID-19: Face Mask Detector with OpenCV, Keras/TensorFlow, and Deep Learning** [LINK](https://www.pyimagesearch.com/2020/05/04/covid-19-face-mask-detector-with-opencv-keras-tensorflow-and-deep-learning/)\n",
    "\n",
    "![img](data:image/png;base64,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)"
   ]
  },
  {
   "cell_type": "markdown",
   "metadata": {},
   "source": [
    "### Import"
   ]
  },
  {
   "cell_type": "code",
   "execution_count": 2,
   "metadata": {},
   "outputs": [],
   "source": [
    "import os"
   ]
  },
  {
   "cell_type": "code",
   "execution_count": 4,
   "metadata": {},
   "outputs": [],
   "source": [
    "import argparse\n",
    "from imutils import paths"
   ]
  },
  {
   "cell_type": "code",
   "execution_count": 5,
   "metadata": {},
   "outputs": [],
   "source": [
    "import numpy as np\n",
    "import matplotlib.pyplot as plt"
   ]
  },
  {
   "cell_type": "code",
   "execution_count": 6,
   "metadata": {},
   "outputs": [],
   "source": [
    "from tensorflow.keras.preprocessing.image import ImageDataGenerator\n",
    "from tensorflow.keras.applications import MobileNetV2\n",
    "from tensorflow.keras.layers import AveragePooling2D\n",
    "from tensorflow.keras.layers import Dropout\n",
    "from tensorflow.keras.layers import Flatten\n",
    "from tensorflow.keras.layers import Dense\n",
    "from tensorflow.keras.layers import Input\n",
    "from tensorflow.keras.models import Model\n",
    "from tensorflow.keras.optimizers import Adam\n",
    "from tensorflow.keras.applications.mobilenet_v2 import preprocess_input\n",
    "from tensorflow.keras.preprocessing.image import img_to_array\n",
    "from tensorflow.keras.preprocessing.image import load_img\n",
    "from tensorflow.keras.utils import to_categorical"
   ]
  },
  {
   "cell_type": "code",
   "execution_count": 7,
   "metadata": {},
   "outputs": [],
   "source": [
    "from sklearn.preprocessing import LabelBinarizer\n",
    "from sklearn.model_selection import train_test_split\n",
    "from sklearn.metrics import classification_report"
   ]
  },
  {
   "cell_type": "markdown",
   "metadata": {},
   "source": [
    "### Paramethers"
   ]
  },
  {
   "cell_type": "code",
   "execution_count": 23,
   "metadata": {},
   "outputs": [],
   "source": [
    "INIT_LR = 1e-4\n",
    "EPOCHS = 20\n",
    "BS = 32"
   ]
  },
  {
   "cell_type": "code",
   "execution_count": 11,
   "metadata": {},
   "outputs": [],
   "source": [
    "DATA_PATH = \"dataset\""
   ]
  },
  {
   "cell_type": "markdown",
   "metadata": {},
   "source": [
    "### Data preparation"
   ]
  },
  {
   "cell_type": "code",
   "execution_count": 12,
   "metadata": {},
   "outputs": [],
   "source": [
    "# grab the list of images in our dataset directory, then initialize\n",
    "# the list of data (i.e., images) and class images\n",
    "\n",
    "imagePaths = list(paths.list_images(DATA_PATH))\n",
    "data = []\n",
    "labels = []"
   ]
  },
  {
   "cell_type": "code",
   "execution_count": 13,
   "metadata": {},
   "outputs": [],
   "source": [
    "# loop over the image paths\n",
    "for imagePath in imagePaths:\n",
    "    # extract the class label from the filename\n",
    "    label = imagePath.split(os.path.sep)[-2]\n",
    "\n",
    "    # load the input image (224x224) and preprocess it\n",
    "    image = load_img(imagePath, target_size=(224, 224))\n",
    "    image = img_to_array(image)\n",
    "    image = preprocess_input(image)\n",
    "\n",
    "    # update the data and labels lists, respectively\n",
    "    data.append(image)\n",
    "    labels.append(label)"
   ]
  },
  {
   "cell_type": "code",
   "execution_count": 14,
   "metadata": {},
   "outputs": [],
   "source": [
    "# convert the data and labels to NumPy arrays\n",
    "data = np.array(data, dtype=\"float32\")\n",
    "labels = np.array(labels)"
   ]
  },
  {
   "cell_type": "code",
   "execution_count": 15,
   "metadata": {},
   "outputs": [],
   "source": [
    "# perform one-hot encoding on the labels\n",
    "lb = LabelBinarizer()\n",
    "labels = lb.fit_transform(labels)\n",
    "labels = to_categorical(labels)"
   ]
  },
  {
   "cell_type": "code",
   "execution_count": 16,
   "metadata": {},
   "outputs": [],
   "source": [
    "# partition the data into training and testing splits using 75% of\n",
    "# the data for training and the remaining 25% for testing\n",
    "(trainX, testX, trainY, testY) = train_test_split(\n",
    "    data, \n",
    "    labels, \n",
    "    test_size=0.20, \n",
    "    stratify=labels, \n",
    "    random_state=42\n",
    ")"
   ]
  },
  {
   "cell_type": "code",
   "execution_count": 17,
   "metadata": {},
   "outputs": [],
   "source": [
    "# construct the training image generator for data augmentation\n",
    "aug = ImageDataGenerator(\n",
    "    rotation_range=20,\n",
    "    zoom_range=0.15,\n",
    "    width_shift_range=0.2,\n",
    "    height_shift_range=0.2,\n",
    "    shear_range=0.15,\n",
    "    horizontal_flip=True,\n",
    "    fill_mode=\"nearest\"\n",
    ")"
   ]
  },
  {
   "cell_type": "markdown",
   "metadata": {},
   "source": [
    "### Modeling"
   ]
  },
  {
   "cell_type": "code",
   "execution_count": 18,
   "metadata": {},
   "outputs": [
    {
     "name": "stderr",
     "output_type": "stream",
     "text": [
      "/Users/oleksandrkosovan/opt/anaconda3/envs/myenv/lib/python3.7/site-packages/keras_applications/mobilenet_v2.py:294: UserWarning: `input_shape` is undefined or non-square, or `rows` is not in [96, 128, 160, 192, 224]. Weights for input shape (224, 224) will be loaded as the default.\n",
      "  warnings.warn('`input_shape` is undefined or non-square, '\n"
     ]
    },
    {
     "name": "stdout",
     "output_type": "stream",
     "text": [
      "Downloading data from https://github.com/JonathanCMitchell/mobilenet_v2_keras/releases/download/v1.1/mobilenet_v2_weights_tf_dim_ordering_tf_kernels_1.0_224_no_top.h5\n",
      "9412608/9406464 [==============================] - 3s 0us/step\n"
     ]
    }
   ],
   "source": [
    "# load the MobileNetV2 network, ensuring the head FC layer sets are\n",
    "# left off\n",
    "baseModel = MobileNetV2(\n",
    "    weights=\"imagenet\", \n",
    "    include_top=False, \n",
    "    input_tensor=Input(shape=(224, 224, 3))\n",
    ")"
   ]
  },
  {
   "cell_type": "code",
   "execution_count": 19,
   "metadata": {},
   "outputs": [],
   "source": [
    "# construct the head of the model that will be placed on top of the\n",
    "# the base model\n",
    "headModel = baseModel.output\n",
    "headModel = AveragePooling2D(pool_size=(7, 7))(headModel)\n",
    "headModel = Flatten(name=\"flatten\")(headModel)\n",
    "headModel = Dense(128, activation=\"relu\")(headModel)\n",
    "headModel = Dropout(0.5)(headModel)\n",
    "headModel = Dense(2, activation=\"softmax\")(headModel)"
   ]
  },
  {
   "cell_type": "code",
   "execution_count": 20,
   "metadata": {},
   "outputs": [],
   "source": [
    "# place the head FC model on top of the base model (this will become\n",
    "# the actual model we will train)\n",
    "model = Model(inputs=baseModel.input, outputs=headModel)"
   ]
  },
  {
   "cell_type": "code",
   "execution_count": 21,
   "metadata": {},
   "outputs": [],
   "source": [
    "# loop over all layers in the base model and freeze them so they will\n",
    "# *not* be updated during the first training process\n",
    "for layer in baseModel.layers:\n",
    "    layer.trainable = False"
   ]
  },
  {
   "cell_type": "code",
   "execution_count": 25,
   "metadata": {},
   "outputs": [],
   "source": [
    "# compile our model\n",
    "opt = Adam(lr=INIT_LR, decay=INIT_LR / EPOCHS)\n",
    "model.compile(loss=\"binary_crossentropy\", optimizer=opt, metrics=[\"accuracy\"])"
   ]
  },
  {
   "cell_type": "code",
   "execution_count": 27,
   "metadata": {},
   "outputs": [],
   "source": [
    "# model.summary()"
   ]
  },
  {
   "cell_type": "markdown",
   "metadata": {},
   "source": [
    "### Training"
   ]
  },
  {
   "cell_type": "code",
   "execution_count": 28,
   "metadata": {},
   "outputs": [
    {
     "name": "stdout",
     "output_type": "stream",
     "text": [
      "[INFO] training head...\n",
      "Train for 34 steps, validate on 276 samples\n",
      "Epoch 1/20\n",
      "34/34 [==============================] - 139s 4s/step - loss: 0.6867 - accuracy: 0.6367 - val_loss: 0.3510 - val_accuracy: 0.8906\n",
      "Epoch 2/20\n",
      "34/34 [==============================] - 121s 4s/step - loss: 0.4376 - accuracy: 0.8052 - val_loss: 0.2101 - val_accuracy: 0.9727\n",
      "Epoch 3/20\n",
      "34/34 [==============================] - 109s 3s/step - loss: 0.3103 - accuracy: 0.8680 - val_loss: 0.1337 - val_accuracy: 0.9844\n",
      "Epoch 4/20\n",
      "34/34 [==============================] - 135s 4s/step - loss: 0.2418 - accuracy: 0.9053 - val_loss: 0.0959 - val_accuracy: 0.9844\n",
      "Epoch 5/20\n",
      "34/34 [==============================] - 109s 3s/step - loss: 0.2110 - accuracy: 0.9242 - val_loss: 0.0691 - val_accuracy: 0.9883\n",
      "Epoch 6/20\n",
      "34/34 [==============================] - 110s 3s/step - loss: 0.1924 - accuracy: 0.9251 - val_loss: 0.0669 - val_accuracy: 0.9883\n",
      "Epoch 7/20\n",
      "34/34 [==============================] - 109s 3s/step - loss: 0.1563 - accuracy: 0.9476 - val_loss: 0.0462 - val_accuracy: 0.9883\n",
      "Epoch 8/20\n",
      "34/34 [==============================] - 102s 3s/step - loss: 0.1509 - accuracy: 0.9429 - val_loss: 0.0513 - val_accuracy: 0.9922\n",
      "Epoch 9/20\n",
      "34/34 [==============================] - 104s 3s/step - loss: 0.1452 - accuracy: 0.9382 - val_loss: 0.0385 - val_accuracy: 0.9961\n",
      "Epoch 10/20\n",
      "34/34 [==============================] - 104s 3s/step - loss: 0.1307 - accuracy: 0.9504 - val_loss: 0.0502 - val_accuracy: 0.9922\n",
      "Epoch 11/20\n",
      "34/34 [==============================] - 100s 3s/step - loss: 0.1397 - accuracy: 0.9466 - val_loss: 0.0443 - val_accuracy: 0.9922\n",
      "Epoch 12/20\n",
      "34/34 [==============================] - 100s 3s/step - loss: 0.1026 - accuracy: 0.9632 - val_loss: 0.0295 - val_accuracy: 0.9961\n",
      "Epoch 13/20\n",
      "34/34 [==============================] - 96s 3s/step - loss: 0.1030 - accuracy: 0.9672 - val_loss: 0.0324 - val_accuracy: 0.9922\n",
      "Epoch 14/20\n",
      "34/34 [==============================] - 97s 3s/step - loss: 0.0861 - accuracy: 0.9738 - val_loss: 0.0339 - val_accuracy: 0.9922\n",
      "Epoch 15/20\n",
      "34/34 [==============================] - 97s 3s/step - loss: 0.0973 - accuracy: 0.9654 - val_loss: 0.0219 - val_accuracy: 1.0000\n",
      "Epoch 16/20\n",
      "34/34 [==============================] - 97s 3s/step - loss: 0.0884 - accuracy: 0.9682 - val_loss: 0.0297 - val_accuracy: 0.9922\n",
      "Epoch 17/20\n",
      "34/34 [==============================] - 2250s 66s/step - loss: 0.0947 - accuracy: 0.9635 - val_loss: 0.0201 - val_accuracy: 1.0000\n",
      "Epoch 18/20\n",
      "34/34 [==============================] - 1899s 56s/step - loss: 0.0840 - accuracy: 0.9691 - val_loss: 0.0222 - val_accuracy: 1.0000\n",
      "Epoch 19/20\n",
      "34/34 [==============================] - 159s 5s/step - loss: 0.0734 - accuracy: 0.9738 - val_loss: 0.0218 - val_accuracy: 0.9922\n",
      "Epoch 20/20\n",
      "34/34 [==============================] - 118s 3s/step - loss: 0.0816 - accuracy: 0.9747 - val_loss: 0.0197 - val_accuracy: 1.0000\n"
     ]
    }
   ],
   "source": [
    "# train the head of the network\n",
    "H = model.fit(\n",
    "    aug.flow(trainX, trainY, batch_size=BS),\n",
    "    steps_per_epoch=len(trainX) // BS,\n",
    "    validation_data=(testX, testY),\n",
    "    validation_steps=len(testX) // BS,\n",
    "    epochs=EPOCHS\n",
    ")"
   ]
  },
  {
   "cell_type": "markdown",
   "metadata": {},
   "source": [
    "### Evaluating"
   ]
  },
  {
   "cell_type": "code",
   "execution_count": 30,
   "metadata": {},
   "outputs": [],
   "source": [
    "# make predictions on the testing set\n",
    "predIdxs = model.predict(testX, batch_size=BS)"
   ]
  },
  {
   "cell_type": "code",
   "execution_count": 31,
   "metadata": {},
   "outputs": [],
   "source": [
    "# for each image in the testing set we need to find the index of the\n",
    "# label with corresponding largest predicted probability\n",
    "predIdxs = np.argmax(predIdxs, axis=1)"
   ]
  },
  {
   "cell_type": "code",
   "execution_count": 32,
   "metadata": {},
   "outputs": [
    {
     "name": "stdout",
     "output_type": "stream",
     "text": [
      "              precision    recall  f1-score   support\n",
      "\n",
      "   with_mask       1.00      1.00      1.00       138\n",
      "without_mask       1.00      1.00      1.00       138\n",
      "\n",
      "    accuracy                           1.00       276\n",
      "   macro avg       1.00      1.00      1.00       276\n",
      "weighted avg       1.00      1.00      1.00       276\n",
      "\n"
     ]
    }
   ],
   "source": [
    "# show a nicely formatted classification report\n",
    "print(classification_report(testY.argmax(axis=1), predIdxs, target_names=lb.classes_))"
   ]
  },
  {
   "cell_type": "code",
   "execution_count": 34,
   "metadata": {},
   "outputs": [
    {
     "data": {
      "image/png": "[encoded data removed]",
      "text/plain": [
       "<Figure size 432x288 with 1 Axes>"
      ]
     },
     "metadata": {},
     "output_type": "display_data"
    }
   ],
   "source": [
    "# plot the training loss and accuracy\n",
    "N = EPOCHS\n",
    "plt.style.use(\"ggplot\")\n",
    "plt.figure()\n",
    "plt.plot(np.arange(0, N), H.history[\"loss\"], label=\"train_loss\")\n",
    "plt.plot(np.arange(0, N), H.history[\"val_loss\"], label=\"val_loss\")\n",
    "plt.plot(np.arange(0, N), H.history[\"accuracy\"], label=\"train_acc\")\n",
    "plt.plot(np.arange(0, N), H.history[\"val_accuracy\"], label=\"val_acc\")\n",
    "plt.title(\"Training Loss and Accuracy\")\n",
    "plt.xlabel(\"Epoch #\")\n",
    "plt.ylabel(\"Loss/Accuracy\")\n",
    "plt.legend(loc=\"lower left\")\n",
    "plt.show()"
   ]
  },
  {
   "cell_type": "markdown",
   "metadata": {},
   "source": [
    "### Save model"
   ]
  },
  {
   "cell_type": "code",
   "execution_count": 33,
   "metadata": {},
   "outputs": [],
   "source": [
    "# serialize the model to disk\n",
    "model.save(\"models/model.h5\", save_format=\"h5\")"
   ]
  },
  {
   "cell_type": "code",
   "execution_count": null,
   "metadata": {},
   "outputs": [],
   "source": []
  }
 ],
 "metadata": {
  "kernelspec": {
   "display_name": "Python (myenv)",
   "language": "python",
   "name": "myenv"
  },
  "language_info": {
   "codemirror_mode": {
    "name": "ipython",
    "version": 3
   },
   "file_extension": ".py",
   "mimetype": "text/x-python",
   "name": "python",
   "nbconvert_exporter": "python",
   "pygments_lexer": "ipython3",
   "version": "3.7.5"
  }
 },
 "nbformat": 4,
 "nbformat_minor": 2
}
